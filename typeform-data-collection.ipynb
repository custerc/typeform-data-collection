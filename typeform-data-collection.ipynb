{
 "cells": [
  {
   "cell_type": "markdown",
   "metadata": {},
   "source": [
    "# Getting Specific Data From a Typeform Survey"
   ]
  },
  {
   "cell_type": "markdown",
   "metadata": {},
   "source": [
    "I'm going to share this little project in case it's of use to anyone else. In it, we will use a few different Python and `pandas` approaches to quickly grab some specific data from a Typeform survey.\n",
    "\n",
    "The first step is to, on Typeform's site, look at the survey responses and click `Download All Responses`, then save as a CSV. Name it something logical, and put it into whatever folder you typically store data sets. For this example, I have it stored in the same folder as my Jupyter notebook files so that I can import it easily without having to type a file path."
   ]
  },
  {
   "cell_type": "markdown",
   "metadata": {},
   "source": [
    "## Step 1: Import Pandas"
   ]
  },
  {
   "cell_type": "code",
   "execution_count": 44,
   "metadata": {},
   "outputs": [],
   "source": [
    "import pandas as pd\n",
    "\n",
    "data = pd.read_csv('scholarship-responses.csv')\n",
    "\n",
    "# data.head()"
   ]
  },
  {
   "cell_type": "markdown",
   "metadata": {},
   "source": [
    "(Normally you might want to use `data.head()` here to take a look at the DataFrame, but since this particular CSV includes private student data, I won't print any of its contents in this notebook, so I have commented out that line.)"
   ]
  },
  {
   "cell_type": "markdown",
   "metadata": {},
   "source": [
    "## Step 2: Grab the Data We Need "
   ]
  },
  {
   "cell_type": "markdown",
   "metadata": {},
   "source": [
    "Now we're going to do some light filtering and cleaning, and we'll look at three different ways of doing that. Specifically we want to:\n",
    "\n",
    "1. Grab the email addresses of students who answered \"Yes\" to a \"want to be notified?\" question?\n",
    "2. Clean that list to get rid of entries that aren't actually valid email addresses.\n",
    "\n",
    "The code that follows probably isn't ideal or the most effcient, but it does all work!"
   ]
  },
  {
   "cell_type": "markdown",
   "metadata": {},
   "source": [
    "### Combo Style"
   ]
  },
  {
   "cell_type": "markdown",
   "metadata": {},
   "source": [
    "Here's an approach that uses a pandas Boolean in two separate lines. Personally I find this a bit easier to follow than the method chaining approach below.\n",
    "\n",
    "Note also that the column labels here are very long. If you're doing a lot of work with a data set it probably would make sense to rename them something much shorter, but since we're just doing one quick thing here we'll just stick with the default column labels, which are the questions that were asked in the survey)."
   ]
  },
  {
   "cell_type": "code",
   "execution_count": 45,
   "metadata": {},
   "outputs": [
    {
     "name": "stdout",
     "output_type": "stream",
     "text": [
      "1548\n",
      "1541\n"
     ]
    }
   ],
   "source": [
    "# create a boolean for only the rows that have 1.0 (yes) as the answer to being notified\n",
    "yes_bool = data[data['Would you like us to notify you about future scholarships?'] == 1.0]\n",
    "\n",
    "# create a pandas series that includes only the email address column from the rows in yes_bool\n",
    "emails = yes_bool['And your email address?']\n",
    "\n",
    "# check length of this series to be sure it makes sense\n",
    "print(len(emails))\n",
    "\n",
    "# create an empty list for the cleaned emails to be stored \n",
    "cleaned_emails = []\n",
    "\n",
    "# use regular for look to iterate through this series\n",
    "for row in emails:\n",
    "    answer = row\n",
    "    # if the row includes the @ symbol, add it to our list of cleaned emails\n",
    "    if '@' in answer:\n",
    "        cleaned_emails.append(row)\n",
    "    else:\n",
    "        pass\n",
    "\n",
    "# check length of cleaned emails to be sure that it makes sense\n",
    "print(len(cleaned_emails))"
   ]
  },
  {
   "cell_type": "markdown",
   "metadata": {},
   "source": [
    "### Method Chaining"
   ]
  },
  {
   "cell_type": "markdown",
   "metadata": {},
   "source": [
    "Here's how to do the same thing using method chanining to convert the first two lines of code in the previous cell to a single line of code here. The rest of the code is the same, except that I changed the variable names for clarity."
   ]
  },
  {
   "cell_type": "code",
   "execution_count": 46,
   "metadata": {},
   "outputs": [
    {
     "name": "stdout",
     "output_type": "stream",
     "text": [
      "1548\n",
      "1541\n"
     ]
    }
   ],
   "source": [
    "emails_2 = data.loc[data['Would you like us to notify you about future scholarships?'] == 1.0, 'And your email address?']\n",
    "\n",
    "print(len(emails_2))\n",
    "\n",
    "cleaned_emails_2 = []\n",
    "\n",
    "for row in emails_2:\n",
    "    answer = row\n",
    "    if '@' in answer:\n",
    "        cleaned_emails_2.append(row)\n",
    "    else:\n",
    "        pass\n",
    "    \n",
    "print(len(cleaned_emails_2))\n"
   ]
  },
  {
   "cell_type": "markdown",
   "metadata": {},
   "source": [
    "### For Loop Style"
   ]
  },
  {
   "cell_type": "markdown",
   "metadata": {},
   "source": [
    "Here's how to do the same thing in a straight-up for loop, which isn't the best way to do this, but here you have it anyway. It works!"
   ]
  },
  {
   "cell_type": "code",
   "execution_count": 47,
   "metadata": {},
   "outputs": [
    {
     "name": "stdout",
     "output_type": "stream",
     "text": [
      "1548\n",
      "1541\n"
     ]
    }
   ],
   "source": [
    "emails_3 = []\n",
    "\n",
    "for label, row in data.iterrows():\n",
    "    email = row.loc['And your email address?']\n",
    "    answer = row.loc['Would you like us to notify you about future scholarships?']\n",
    "    if answer == 1.0:\n",
    "        emails_3.append(email)\n",
    "        \n",
    "print(len(emails_3))\n",
    "\n",
    "cleaned_emails_3 = []\n",
    "\n",
    "for row in emails_3:\n",
    "    answer = row\n",
    "    if '@' in answer:\n",
    "        cleaned_emails_3.append(row)\n",
    "    else:\n",
    "        pass\n",
    "    \n",
    "print(len(cleaned_emails_3))"
   ]
  },
  {
   "cell_type": "markdown",
   "metadata": {},
   "source": [
    "## Step 3: Output Cleaned List to CSV"
   ]
  },
  {
   "cell_type": "markdown",
   "metadata": {},
   "source": [
    "Now we've got our final list of cleaned emails, let's convert it to a pandas series and export it as a CSV. Again, you'd probably want to use `em_series.head()` here to double-check your series looks right, but I won't do that here because I don't want to leak any student email addresses, so I have commented out that line."
   ]
  },
  {
   "cell_type": "code",
   "execution_count": 48,
   "metadata": {},
   "outputs": [],
   "source": [
    "em_series = pd.Series(cleaned_emails)\n",
    "\n",
    "# em_series.head()"
   ]
  },
  {
   "cell_type": "code",
   "execution_count": 49,
   "metadata": {},
   "outputs": [],
   "source": [
    "em_series.to_csv('cleaned-emails-exported.csv')"
   ]
  }
 ],
 "metadata": {
  "kernelspec": {
   "display_name": "Python 3",
   "language": "python",
   "name": "python3"
  },
  "language_info": {
   "codemirror_mode": {
    "name": "ipython",
    "version": 3
   },
   "file_extension": ".py",
   "mimetype": "text/x-python",
   "name": "python",
   "nbconvert_exporter": "python",
   "pygments_lexer": "ipython3",
   "version": "3.7.0"
  }
 },
 "nbformat": 4,
 "nbformat_minor": 2
}
